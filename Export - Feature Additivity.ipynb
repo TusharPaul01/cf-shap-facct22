{
 "cells": [
  {
   "cell_type": "code",
   "execution_count": 1,
   "id": "348f8ecd-f7c7-4377-9a66-a54f7e9cd01b",
   "metadata": {},
   "outputs": [
    {
     "name": "stdout",
     "output_type": "stream",
     "text": [
      "Python  3.6.13\n",
      "Python Executable: /home/ubuntu/anaconda3/envs/cfshap22/bin/python\n",
      "CWD =  /home/ubuntu/air/xai/cfshap-release/cf-shap-facct22\n",
      "NumPy 1.19.2 | Pandas 1.1.5 | SciPy 1.5.2 | NetworkX 2.5.1 | StatsModels 0.12.2\n",
      "scikit-learn 0.24.2 | xgboost 1.3.3 \n",
      "MatPlotLib 3.3.4 | Seaborn 0.11.1 | "
     ]
    },
    {
     "data": {
      "text/html": [
       "        <script type=\"text/javascript\">\n",
       "        window.PlotlyConfig = {MathJaxConfig: 'local'};\n",
       "        if (window.MathJax) {MathJax.Hub.Config({SVG: {font: \"STIX-Web\"}});}\n",
       "        if (typeof require !== 'undefined') {\n",
       "        require.undef(\"plotly\");\n",
       "        requirejs.config({\n",
       "            paths: {\n",
       "                'plotly': ['https://cdn.plot.ly/plotly-2.2.0.min']\n",
       "            }\n",
       "        });\n",
       "        require(['plotly'], function(Plotly) {\n",
       "            window._Plotly = Plotly;\n",
       "        });\n",
       "        }\n",
       "        </script>\n",
       "        "
      ]
     },
     "metadata": {},
     "output_type": "display_data"
    },
    {
     "name": "stdout",
     "output_type": "stream",
     "text": [
      "\n",
      "\n"
     ]
    }
   ],
   "source": [
    "from emutils.imports import *\n",
    "from emutils.geometry.metrics import adist\n",
    "\n",
    "from emutils.utils import (attrdict, in_ipynb, pandas_max, load_pickle, save_pickle)\n",
    "\n",
    "from emutils.model.wrappers import XGBClassifierSKLWrapper\n",
    "\n",
    "from utils import *\n",
    "\n",
    "# Suppress warnings\n",
    "import warnings\n",
    "# warnings.filterwarnings(action=\"error\", category=RuntimeWarning)\n",
    "warnings.simplefilter(action='ignore', category=FutureWarning)\n",
    "\n",
    "# Suppress scientific notation\n",
    "# np.set_printoptions(suppress=True)\n",
    "np.seterr(all='raise')\n",
    "\n",
    "pandas_max(100, 200)"
   ]
  },
  {
   "cell_type": "code",
   "execution_count": 2,
   "id": "8828467a-6e33-41d5-9669-3fc6f27b0654",
   "metadata": {},
   "outputs": [
    {
     "name": "stdout",
     "output_type": "stream",
     "text": [
      "{'data_path': './data',\n",
      " 'model_path': './models',\n",
      " 'model_type': 'xgb',\n",
      " 'random_state': 2021,\n",
      " 'results_path': './explanations',\n",
      " 'show': True}\n"
     ]
    }
   ],
   "source": [
    "from constants import EXPLANATIONS_DIR, MODEL_DIR, DATA_DIR\n",
    "\n",
    "parser = ArgumentParser(sys.argv)\n",
    "\n",
    "parser.add_argument('--data_path', type=str, default=DATA_DIR, required=False)\n",
    "parser.add_argument('--model_path', type=str, default=MODEL_DIR)\n",
    "parser.add_argument('--results_path', type=str, default=EXPLANATIONS_DIR)\n",
    "\n",
    "parser.add_argument('--random_state', type=int, default=2021, required=False)\n",
    "parser.add_argument('--model_type', type=str, default='xgb')\n",
    "\n",
    "args, unknown = parser.parse_known_args()\n",
    "args = attrdict(vars(args))\n",
    "\n",
    "# Show graphs and stuff or not?\n",
    "args.show = in_ipynb()\n",
    "\n",
    "# if 'variate' in args.dataset or 'test' in args.results_version:\n",
    "#     args.override = True\n",
    "\n",
    "print(args)"
   ]
  },
  {
   "cell_type": "code",
   "execution_count": 3,
   "id": "65efe2cb-ea7f-4760-a184-6bbb3c60f6c1",
   "metadata": {},
   "outputs": [],
   "source": [
    "MODELS = [\n",
    "    ('heloc', 'v2', 'v5'), \n",
    "    ('lendingclub', 'v2', 'v5'), \n",
    "    ('wines', 'v2', 'v5'), \n",
    "]\n",
    "\n",
    "RESULTS = [\n",
    "    'v5_close', \n",
    "    'v5_far', \n",
    "]"
   ]
  },
  {
   "cell_type": "code",
   "execution_count": 4,
   "id": "734696e3-0726-4468-9054-ecf2851b0cdf",
   "metadata": {},
   "outputs": [
    {
     "data": {
      "application/vnd.jupyter.widget-view+json": {
       "model_id": "25b82fcfd4804ffd88768b78c76b7434",
       "version_major": 2,
       "version_minor": 0
      },
      "text/plain": [
       "  0%|          | 0/3 [00:00<?, ?it/s]"
      ]
     },
     "metadata": {},
     "output_type": "display_data"
    }
   ],
   "source": [
    "data = {\n",
    "    (dataset_to_name(dataset), model_version_to_name(model_version)): attrdict({\n",
    "        **{\n",
    "            \"Dataset\": dataset_to_name(dataset),\n",
    "            \"Model\": model_version_to_name(model_version)\n",
    "        },\n",
    "        **load_data_and_model(dataset, data_version, model_version, args),\n",
    "    })\n",
    "    for dataset, data_version, model_version in tqdm(MODELS)\n",
    "}"
   ]
  },
  {
   "cell_type": "code",
   "execution_count": 5,
   "id": "7bab292e-a191-4401-a140-f90bed186277",
   "metadata": {},
   "outputs": [
    {
     "data": {
      "application/vnd.jupyter.widget-view+json": {
       "model_id": "37d51886ad114d84a4838ae9d2d60345",
       "version_major": 2,
       "version_minor": 0
      },
      "text/plain": [
       "Loading Explanations:   0%|          | 0/3 [00:00<?, ?it/s]"
      ]
     },
     "metadata": {},
     "output_type": "display_data"
    },
    {
     "name": "stdout",
     "output_type": "stream",
     "text": [
      "('Wine Quality (White)', 'Non-Monotonic', 'All')\n",
      "('HELOC (Home Equity Line of Credit)', 'Non-Monotonic', 'All')\n",
      "('Lending Club (2007-2018)', 'Non-Monotonic', 'All')\n"
     ]
    }
   ],
   "source": [
    "explanations = {}\n",
    "for dataset, data_version, model_version in tqdm(MODELS, desc='Loading Explanations'):\n",
    "    for results_version in RESULTS:\n",
    "        try:\n",
    "            explanations[(\n",
    "                dataset_to_name(dataset), \n",
    "                model_version_to_name(model_version),\n",
    "                result_version_to_name(results_version),\n",
    "            )] = attrdict({\n",
    "                **{\n",
    "                    'Decision Boundary': result_version_to_name(results_version)\n",
    "                },\n",
    "                **data[(dataset_to_name(dataset), model_version_to_name(model_version))],\n",
    "                **load_explanations(args, dataset, data_version, model_version, results_version=results_version),\n",
    "            })\n",
    "        except FileNotFoundError:\n",
    "            warnings.warn(f'\\nCould not load explanations for {dataset} {data_version} / {model_version} / {results_version}')\n",
    "            \n",
    "for dataset, model_name in set(tuple(map(tuple, np.array(tuple(explanations.keys()))[:, :-1]))):\n",
    "    if (dataset, model_name, 'Close (<50%)') in explanations and (dataset, model_name, 'Far (>50%)') in explanations:\n",
    "        A = explanations[(dataset, model_name, 'Close (<50%)')].copy()\n",
    "        B = explanations[(dataset, model_name, 'Far (>50%)')].copy()\n",
    "        C = A.copy()\n",
    "        C['Decision Boundary'] = 'All'\n",
    "        for c in ['x', 'pred', 'prob', 'index']:\n",
    "            C.metadata[c] = np.concatenate([A.metadata[c], B.metadata[c]])\n",
    "        C.metadata['manifold'] = None\n",
    "        for c in C.values.keys():\n",
    "            C.values[c] = np.concatenate([A.values[c], B.values[c]])\n",
    "\n",
    "        for c in C.trends.keys():\n",
    "            C.trends[c] = np.concatenate([A.trends[c], B.trends[c]])\n",
    "\n",
    "        if 'backgrounds' in C:\n",
    "            for c in C.backgrounds.keys():\n",
    "                C.backgrounds[c] = np.concatenate([A.backgrounds[c], B.backgrounds[c]])\n",
    "\n",
    "        print((dataset, model_name, 'All'))\n",
    "        explanations[(dataset, model_name, 'All')] = C"
   ]
  },
  {
   "cell_type": "code",
   "execution_count": 6,
   "id": "a3d6e65a-8d95-4938-9454-5856e1e99f12",
   "metadata": {},
   "outputs": [
    {
     "data": {
      "application/vnd.jupyter.widget-view+json": {
       "model_id": "71bc10e14ccf40a4bc87bc9ca08ab621",
       "version_major": 2,
       "version_minor": 0
      },
      "text/plain": [
       "('Wine Quality (White)', 'Non-Monotonic', 'All'):   0%|          | 0/17 [00:00<?, ?it/s]"
      ]
     },
     "metadata": {},
     "output_type": "display_data"
    },
    {
     "data": {
      "application/vnd.jupyter.widget-view+json": {
       "model_id": "14d6823f0422483bb5310ef7eea0fe69",
       "version_major": 2,
       "version_minor": 0
      },
      "text/plain": [
       "('HELOC (Home Equity Line of Credit)', 'Non-Monotonic', 'All'):   0%|          | 0/17 [00:00<?, ?it/s]"
      ]
     },
     "metadata": {},
     "output_type": "display_data"
    },
    {
     "data": {
      "application/vnd.jupyter.widget-view+json": {
       "model_id": "ee36a349baf64088aa3068371f321725",
       "version_major": 2,
       "version_minor": 0
      },
      "text/plain": [
       "('Lending Club (2007-2018)', 'Non-Monotonic', 'All'):   0%|          | 0/17 [00:00<?, ?it/s]"
      ]
     },
     "metadata": {},
     "output_type": "display_data"
    }
   ],
   "source": [
    "def logit(x):\n",
    "    return np.log(x / (1 - x))\n",
    "\n",
    "additivity_divergence = []\n",
    "additivity_divergence_all = []\n",
    "for (dataset_name, model_name, result_name), d in explanations.items():\n",
    "    if result_name != 'All':\n",
    "        continue\n",
    "    model = d.model\n",
    "    X = d.metadata['x']\n",
    "    for method, vals in tqmd(d.values.items(), desc = str((dataset_name, model_name, result_name))):\n",
    "        pred = d.model.decision_function(X)\n",
    "        shap_sum = vals.sum(axis = 1)\n",
    "        shap_exp = - shap_sum + pred\n",
    "        logit_thr = logit(model.threshold)\n",
    "        real_sum = (pred - logit_thr)\n",
    "#         delta = (shap_sum - real_sum) / real_sum\n",
    "        delta = np.abs(shap_exp - logit_thr)\n",
    "        delta = delta[~np.isnan(delta)]\n",
    "        \n",
    "        additivity_divergence.append({\n",
    "            'Dataset': dataset_name,\n",
    "            'Model': model_name,\n",
    "            'Decision Boundary': result_name,\n",
    "            'Method': method,\n",
    "            'Divergences': delta,\n",
    "            'Mean': np.abs(delta).mean(),\n",
    "            'Variance': np.abs(delta).var(ddof=1),\n",
    "        })\n",
    "        for elta in delta:\n",
    "            additivity_divergence_all.append({\n",
    "                'Dataset': dataset_name,\n",
    "                'Model': model_name,\n",
    "                'Decision Boundary': result_name,\n",
    "                'Method': method,\n",
    "                'Divergence': elta,\n",
    "            })"
   ]
  },
  {
   "cell_type": "code",
   "execution_count": 7,
   "id": "2367c38b-a7c1-4308-9b7b-a4186551f592",
   "metadata": {},
   "outputs": [],
   "source": [
    "def condition(m):\n",
    "    for i in [1, 7, 3, 50]:\n",
    "        if f'knn{i}_' in m:\n",
    "            return False\n",
    "    return True"
   ]
  },
  {
   "cell_type": "code",
   "execution_count": 8,
   "id": "fee1bdea-739e-415c-a1ec-5513a4d1c774",
   "metadata": {},
   "outputs": [],
   "source": [
    "results_ = [r for r in additivity_divergence_all if condition(r['Method'])]\n",
    "\n",
    "df2 = pd.DataFrame(results_)\n",
    "df2 = df2[df2['Model'] == 'Non-Monotonic']\n",
    "\n",
    "df2 = df2[['Method', 'Dataset', 'Divergence']]\n",
    "df2 = df2.sort_values(['Dataset', 'Method'])\n",
    "df2['Method'] = df2['Method'].apply(method_to_name)\n",
    "\n",
    "map_cols = {\n",
    "    'HELOC': 'HELOC',\n",
    "    'Lending': 'LC',\n",
    "    'Wine': 'WQ',\n",
    "}\n",
    "\n",
    "def map_colsf(c):\n",
    "    for a, b in map_cols.items():\n",
    "        if a in c:\n",
    "            return b\n",
    "\n",
    "df2['Dataset'] = df2['Dataset'].apply(map_colsf)"
   ]
  },
  {
   "cell_type": "code",
   "execution_count": 9,
   "id": "740c693a-2df8-484b-8794-5af5ba349271",
   "metadata": {},
   "outputs": [
    {
     "data": {
      "text/html": [
       "<div>\n",
       "<style scoped>\n",
       "    .dataframe tbody tr th:only-of-type {\n",
       "        vertical-align: middle;\n",
       "    }\n",
       "\n",
       "    .dataframe tbody tr th {\n",
       "        vertical-align: top;\n",
       "    }\n",
       "\n",
       "    .dataframe thead th {\n",
       "        text-align: right;\n",
       "    }\n",
       "</style>\n",
       "<table border=\"1\" class=\"dataframe\">\n",
       "  <thead>\n",
       "    <tr style=\"text-align: right;\">\n",
       "      <th>Dataset</th>\n",
       "      <th>HELOC</th>\n",
       "      <th>LC</th>\n",
       "      <th>WQ</th>\n",
       "    </tr>\n",
       "    <tr>\n",
       "      <th>Method</th>\n",
       "      <th></th>\n",
       "      <th></th>\n",
       "      <th></th>\n",
       "    </tr>\n",
       "  </thead>\n",
       "  <tbody>\n",
       "    <tr>\n",
       "      <th>CF-SHAP $10$-NNQ+L1</th>\n",
       "      <td>0.392888</td>\n",
       "      <td>0.191904</td>\n",
       "      <td>0.488839</td>\n",
       "    </tr>\n",
       "    <tr>\n",
       "      <th>CF-SHAP $100$-NNQ+L1</th>\n",
       "      <td>0.524610</td>\n",
       "      <td>0.268826</td>\n",
       "      <td>0.663118</td>\n",
       "    </tr>\n",
       "    <tr>\n",
       "      <th>CF-SHAP $100$-NNQ+L1$^*$</th>\n",
       "      <td>0.067102</td>\n",
       "      <td>0.080836</td>\n",
       "      <td>0.076111</td>\n",
       "    </tr>\n",
       "    <tr>\n",
       "      <th>CF-SHAP $1000$-NNQ+L1</th>\n",
       "      <td>0.778727</td>\n",
       "      <td>0.445226</td>\n",
       "      <td>0.845896</td>\n",
       "    </tr>\n",
       "    <tr>\n",
       "      <th>CF-SHAP $20$-NNQ+L1</th>\n",
       "      <td>0.424532</td>\n",
       "      <td>0.209391</td>\n",
       "      <td>0.537250</td>\n",
       "    </tr>\n",
       "    <tr>\n",
       "      <th>CF-SHAP $250$-NNQ+L1</th>\n",
       "      <td>0.604559</td>\n",
       "      <td>0.322399</td>\n",
       "      <td>0.740091</td>\n",
       "    </tr>\n",
       "    <tr>\n",
       "      <th>CF-SHAP $5$-NNQ+L1</th>\n",
       "      <td>0.364897</td>\n",
       "      <td>0.177237</td>\n",
       "      <td>0.455308</td>\n",
       "    </tr>\n",
       "    <tr>\n",
       "      <th>CF-SHAP $500$-NNQ+L1</th>\n",
       "      <td>0.682279</td>\n",
       "      <td>0.376471</td>\n",
       "      <td>0.797765</td>\n",
       "    </tr>\n",
       "    <tr>\n",
       "      <th>SHAP D-LAB</th>\n",
       "      <td>0.330960</td>\n",
       "      <td>0.037210</td>\n",
       "      <td>0.567720</td>\n",
       "    </tr>\n",
       "    <tr>\n",
       "      <th>SHAP D-LAB (n = 100)</th>\n",
       "      <td>0.384540</td>\n",
       "      <td>0.034720</td>\n",
       "      <td>0.606445</td>\n",
       "    </tr>\n",
       "    <tr>\n",
       "      <th>SHAP D-PRED</th>\n",
       "      <td>0.940211</td>\n",
       "      <td>0.693693</td>\n",
       "      <td>0.880631</td>\n",
       "    </tr>\n",
       "    <tr>\n",
       "      <th>SHAP D-PRED (n = 100)</th>\n",
       "      <td>1.000237</td>\n",
       "      <td>0.662427</td>\n",
       "      <td>0.852235</td>\n",
       "    </tr>\n",
       "    <tr>\n",
       "      <th>SHAP TRAIN</th>\n",
       "      <td>0.437677</td>\n",
       "      <td>0.102876</td>\n",
       "      <td>0.456406</td>\n",
       "    </tr>\n",
       "    <tr>\n",
       "      <th>SHAP TRAIN (n = 100)</th>\n",
       "      <td>0.412292</td>\n",
       "      <td>0.048164</td>\n",
       "      <td>0.327041</td>\n",
       "    </tr>\n",
       "  </tbody>\n",
       "</table>\n",
       "</div>"
      ],
      "text/plain": [
       "Dataset                      HELOC        LC        WQ\n",
       "Method                                                \n",
       "CF-SHAP $10$-NNQ+L1       0.392888  0.191904  0.488839\n",
       "CF-SHAP $100$-NNQ+L1      0.524610  0.268826  0.663118\n",
       "CF-SHAP $100$-NNQ+L1$^*$  0.067102  0.080836  0.076111\n",
       "CF-SHAP $1000$-NNQ+L1     0.778727  0.445226  0.845896\n",
       "CF-SHAP $20$-NNQ+L1       0.424532  0.209391  0.537250\n",
       "CF-SHAP $250$-NNQ+L1      0.604559  0.322399  0.740091\n",
       "CF-SHAP $5$-NNQ+L1        0.364897  0.177237  0.455308\n",
       "CF-SHAP $500$-NNQ+L1      0.682279  0.376471  0.797765\n",
       "SHAP D-LAB                0.330960  0.037210  0.567720\n",
       "SHAP D-LAB (n = 100)      0.384540  0.034720  0.606445\n",
       "SHAP D-PRED               0.940211  0.693693  0.880631\n",
       "SHAP D-PRED (n = 100)     1.000237  0.662427  0.852235\n",
       "SHAP TRAIN                0.437677  0.102876  0.456406\n",
       "SHAP TRAIN (n = 100)      0.412292  0.048164  0.327041"
      ]
     },
     "execution_count": 9,
     "metadata": {},
     "output_type": "execute_result"
    }
   ],
   "source": [
    "results_ = [r for r in additivity_divergence if condition(r['Method'])]\n",
    "\n",
    "df = pd.DataFrame(results_)\n",
    "# df = df[df['Decision Boundary'] == 'All']\n",
    "df = df[df['Model'] == 'Non-Monotonic']\n",
    "del df['Divergences']\n",
    "\n",
    "df = df[['Method', 'Dataset', 'Mean', 'Variance']]\n",
    "df = df.sort_values(['Dataset', 'Method'])\n",
    "df['Method'] = df['Method'].apply(method_to_name)\n",
    "\n",
    "map_cols = {\n",
    "    'HELOC': 'HELOC',\n",
    "    'Lending': 'LC',\n",
    "    'Wine': 'WQ',\n",
    "}\n",
    "\n",
    "def map_colsf(c):\n",
    "    for a, b in map_cols.items():\n",
    "        if a in c:\n",
    "            return b\n",
    "\n",
    "df['Dataset'] = df['Dataset'].apply(map_colsf)\n",
    "\n",
    "\n",
    "pivot = df.pivot(index = 'Method', columns = 'Dataset', values=['Mean'])\n",
    "pivot.columns = pivot.columns.droplevel()\n",
    "pivot"
   ]
  },
  {
   "cell_type": "code",
   "execution_count": 10,
   "id": "e065ad41-86a4-49e6-ad16-5cf080534f10",
   "metadata": {},
   "outputs": [
    {
     "name": "stdout",
     "output_type": "stream",
     "text": [
      "\\begin{tabular}{rllll}\n",
      "\\hline\n",
      " &     HELOC &        LC &        WQ \\\\\n",
      "                   &           &           &           \\\\\n",
      "\\hline\n",
      "CF-SHAP $10$-NNQ+L1      &  0.392888 &  0.191904 &  0.488839 \\\\\n",
      "CF-SHAP $100$-NNQ+L1     &  0.524610 &  0.268826 &  0.663118 \\\\\n",
      "CF-SHAP $100$-NNQ+L1$^*$ &  0.067102 &  0.080836 &  0.076111 \\\\\n",
      "CF-SHAP $1000$-NNQ+L1    &  0.778727 &  0.445226 &  0.845896 \\\\\n",
      "CF-SHAP $20$-NNQ+L1      &  0.424532 &  0.209391 &  0.537250 \\\\\n",
      "CF-SHAP $250$-NNQ+L1     &  0.604559 &  0.322399 &  0.740091 \\\\\n",
      "CF-SHAP $5$-NNQ+L1       &  0.364897 &  0.177237 &  0.455308 \\\\\n",
      "CF-SHAP $500$-NNQ+L1     &  0.682279 &  0.376471 &  0.797765 \\\\\n",
      "SHAP D-LAB               &  0.330960 &  0.037210 &  0.567720 \\\\\n",
      "SHAP D-LAB (n = 100)     &  0.384540 &  0.034720 &  0.606445 \\\\\n",
      "SHAP D-PRED              &  0.940211 &  0.693693 &  0.880631 \\\\\n",
      "SHAP D-PRED (n = 100)    &  1.000237 &  0.662427 &  0.852235 \\\\\n",
      "SHAP TRAIN               &  0.437677 &  0.102876 &  0.456406 \\\\\n",
      "SHAP TRAIN (n = 100)     &  0.412292 &  0.048164 &  0.327041 \\\\\n",
      "\\end{tabular}\n",
      "\n"
     ]
    }
   ],
   "source": [
    "print(pivot.to_latex(bold_rows=False, escape = False, column_format='rllll')\n",
    "      .replace('toprule', 'hline')\n",
    "      .replace('midrule', 'hline')\n",
    "      .replace('\\\\bottomrule\\n', '')\n",
    "      .replace('Dataset', '')\n",
    "      .replace('Method', '')\n",
    ")"
   ]
  },
  {
   "cell_type": "code",
   "execution_count": null,
   "id": "d73d406b-1c24-4e52-a0f3-8df245239c63",
   "metadata": {},
   "outputs": [],
   "source": []
  }
 ],
 "metadata": {
  "kernelspec": {
   "display_name": "Python 3",
   "language": "python",
   "name": "python3"
  },
  "language_info": {
   "codemirror_mode": {
    "name": "ipython",
    "version": 3
   },
   "file_extension": ".py",
   "mimetype": "text/x-python",
   "name": "python",
   "nbconvert_exporter": "python",
   "pygments_lexer": "ipython3",
   "version": "3.6.13"
  }
 },
 "nbformat": 4,
 "nbformat_minor": 5
}
